{
 "cells": [
  {
   "cell_type": "code",
   "execution_count": 2,
   "metadata": {},
   "outputs": [],
   "source": [
    "from random import choice\n",
    "\n",
    "'''\n",
    "# full consonants\n",
    "consonants = ['b', 'c', 'd', 'f', 'g', 'h', 'j', 'k', 'l', 'm', \n",
    "              'n', 'p', 'r', 's', 't', 'v','w','x','y',\n",
    "              'z','sh', 'ch', 'gh', 'th', 'qu', 'ng']\n",
    "'''\n",
    "\n",
    "# simplified consonants, repetitive sounds removed\n",
    "consonants = ['b', 'c', 'd', 'f', 'g', 'h', 'l', 'm', \n",
    "              'n', 'p', 'r', 's', 't', 'v','w','y',\n",
    "              'sh', 'ch', 'th', 'qu', 'ng']\n",
    "\n",
    "# vowels, without 'y'\n",
    "vowels = ['a', 'e', 'i', 'o', 'u']"
   ]
  },
  {
   "cell_type": "code",
   "execution_count": 4,
   "metadata": {},
   "outputs": [
    {
     "name": "stdout",
     "output_type": "stream",
     "text": [
      "guvecushe\n"
     ]
    }
   ],
   "source": [
    "word_length = 8\n",
    "rand_word = ''\n",
    "i = 0\n",
    "\n",
    "while i < word_length:\n",
    "    if (i%2) == 0:\n",
    "        rand_word = rand_word + choice(consonants)\n",
    "    else:\n",
    "        rand_word = rand_word + choice(vowels)\n",
    "    i = i + 1\n",
    "print(rand_word)"
   ]
  },
  {
   "cell_type": "code",
   "execution_count": null,
   "metadata": {},
   "outputs": [],
   "source": []
  },
  {
   "cell_type": "code",
   "execution_count": null,
   "metadata": {},
   "outputs": [],
   "source": []
  }
 ],
 "metadata": {
  "kernelspec": {
   "display_name": "Python 3",
   "language": "python",
   "name": "python3"
  },
  "language_info": {
   "codemirror_mode": {
    "name": "ipython",
    "version": 3
   },
   "file_extension": ".py",
   "mimetype": "text/x-python",
   "name": "python",
   "nbconvert_exporter": "python",
   "pygments_lexer": "ipython3",
   "version": "3.7.4"
  }
 },
 "nbformat": 4,
 "nbformat_minor": 2
}
